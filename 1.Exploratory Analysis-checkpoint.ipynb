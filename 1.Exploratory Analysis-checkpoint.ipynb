{
 "cells": [
  {
   "cell_type": "markdown",
   "metadata": {},
   "source": [
    "# 1.Exploratory Questions"
   ]
  },
  {
   "cell_type": "markdown",
   "metadata": {},
   "source": [
    " ### 1.1 What proportion of customers with a credit score below 0.2 made a claim in the last year?"
   ]
  },
  {
   "cell_type": "code",
   "execution_count": 78,
   "metadata": {},
   "outputs": [],
   "source": [
    "# importing the library\n",
    "import pandas as pd"
   ]
  },
  {
   "cell_type": "code",
   "execution_count": 79,
   "metadata": {},
   "outputs": [],
   "source": [
    "# Reading the dataset\n",
    "dataset=pd.read_csv(\"preprocessed_customerdata.csv\")"
   ]
  },
  {
   "cell_type": "code",
   "execution_count": 80,
   "metadata": {},
   "outputs": [
    {
     "data": {
      "text/html": [
       "<div>\n",
       "<style scoped>\n",
       "    .dataframe tbody tr th:only-of-type {\n",
       "        vertical-align: middle;\n",
       "    }\n",
       "\n",
       "    .dataframe tbody tr th {\n",
       "        vertical-align: top;\n",
       "    }\n",
       "\n",
       "    .dataframe thead th {\n",
       "        text-align: right;\n",
       "    }\n",
       "</style>\n",
       "<table border=\"1\" class=\"dataframe\">\n",
       "  <thead>\n",
       "    <tr style=\"text-align: right;\">\n",
       "      <th></th>\n",
       "      <th>id</th>\n",
       "      <th>age</th>\n",
       "      <th>gender</th>\n",
       "      <th>race</th>\n",
       "      <th>driving_experience</th>\n",
       "      <th>education</th>\n",
       "      <th>income</th>\n",
       "      <th>credit_score</th>\n",
       "      <th>vehicle_ownership</th>\n",
       "      <th>vehicle_year</th>\n",
       "      <th>...</th>\n",
       "      <th>children</th>\n",
       "      <th>postal_code</th>\n",
       "      <th>annual_mileage</th>\n",
       "      <th>vehicle_type</th>\n",
       "      <th>speeding_violations</th>\n",
       "      <th>DUIs</th>\n",
       "      <th>past_accidents</th>\n",
       "      <th>outcome</th>\n",
       "      <th>telematic_score</th>\n",
       "      <th>monthly_mileage</th>\n",
       "    </tr>\n",
       "  </thead>\n",
       "  <tbody>\n",
       "    <tr>\n",
       "      <th>0</th>\n",
       "      <td>569520</td>\n",
       "      <td>65+</td>\n",
       "      <td>female</td>\n",
       "      <td>majority</td>\n",
       "      <td>0-9y</td>\n",
       "      <td>high school</td>\n",
       "      <td>high</td>\n",
       "      <td>0.629027</td>\n",
       "      <td>True</td>\n",
       "      <td>after 2015</td>\n",
       "      <td>...</td>\n",
       "      <td>True</td>\n",
       "      <td>10238</td>\n",
       "      <td>12000.0</td>\n",
       "      <td>sedan</td>\n",
       "      <td>0</td>\n",
       "      <td>0</td>\n",
       "      <td>0</td>\n",
       "      <td>False</td>\n",
       "      <td>37.454012</td>\n",
       "      <td>1000.000000</td>\n",
       "    </tr>\n",
       "    <tr>\n",
       "      <th>1</th>\n",
       "      <td>750365</td>\n",
       "      <td>16-25</td>\n",
       "      <td>male</td>\n",
       "      <td>majority</td>\n",
       "      <td>0-9y</td>\n",
       "      <td>none</td>\n",
       "      <td>very low</td>\n",
       "      <td>0.357757</td>\n",
       "      <td>False</td>\n",
       "      <td>before 2015</td>\n",
       "      <td>...</td>\n",
       "      <td>False</td>\n",
       "      <td>10238</td>\n",
       "      <td>16000.0</td>\n",
       "      <td>sedan</td>\n",
       "      <td>0</td>\n",
       "      <td>0</td>\n",
       "      <td>0</td>\n",
       "      <td>True</td>\n",
       "      <td>95.071431</td>\n",
       "      <td>1333.333333</td>\n",
       "    </tr>\n",
       "    <tr>\n",
       "      <th>2</th>\n",
       "      <td>199901</td>\n",
       "      <td>16-25</td>\n",
       "      <td>female</td>\n",
       "      <td>majority</td>\n",
       "      <td>0-9y</td>\n",
       "      <td>high school</td>\n",
       "      <td>low</td>\n",
       "      <td>0.493146</td>\n",
       "      <td>True</td>\n",
       "      <td>before 2015</td>\n",
       "      <td>...</td>\n",
       "      <td>False</td>\n",
       "      <td>10238</td>\n",
       "      <td>11000.0</td>\n",
       "      <td>sedan</td>\n",
       "      <td>0</td>\n",
       "      <td>0</td>\n",
       "      <td>0</td>\n",
       "      <td>False</td>\n",
       "      <td>73.199394</td>\n",
       "      <td>916.666667</td>\n",
       "    </tr>\n",
       "    <tr>\n",
       "      <th>3</th>\n",
       "      <td>478866</td>\n",
       "      <td>16-25</td>\n",
       "      <td>male</td>\n",
       "      <td>majority</td>\n",
       "      <td>0-9y</td>\n",
       "      <td>university</td>\n",
       "      <td>low</td>\n",
       "      <td>0.206013</td>\n",
       "      <td>True</td>\n",
       "      <td>before 2015</td>\n",
       "      <td>...</td>\n",
       "      <td>True</td>\n",
       "      <td>32765</td>\n",
       "      <td>11000.0</td>\n",
       "      <td>sedan</td>\n",
       "      <td>0</td>\n",
       "      <td>0</td>\n",
       "      <td>0</td>\n",
       "      <td>False</td>\n",
       "      <td>59.865848</td>\n",
       "      <td>916.666667</td>\n",
       "    </tr>\n",
       "    <tr>\n",
       "      <th>4</th>\n",
       "      <td>731664</td>\n",
       "      <td>26-39</td>\n",
       "      <td>male</td>\n",
       "      <td>majority</td>\n",
       "      <td>10-19y</td>\n",
       "      <td>none</td>\n",
       "      <td>low</td>\n",
       "      <td>0.388366</td>\n",
       "      <td>True</td>\n",
       "      <td>before 2015</td>\n",
       "      <td>...</td>\n",
       "      <td>False</td>\n",
       "      <td>32765</td>\n",
       "      <td>12000.0</td>\n",
       "      <td>sedan</td>\n",
       "      <td>2</td>\n",
       "      <td>0</td>\n",
       "      <td>1</td>\n",
       "      <td>True</td>\n",
       "      <td>15.601864</td>\n",
       "      <td>1000.000000</td>\n",
       "    </tr>\n",
       "    <tr>\n",
       "      <th>...</th>\n",
       "      <td>...</td>\n",
       "      <td>...</td>\n",
       "      <td>...</td>\n",
       "      <td>...</td>\n",
       "      <td>...</td>\n",
       "      <td>...</td>\n",
       "      <td>...</td>\n",
       "      <td>...</td>\n",
       "      <td>...</td>\n",
       "      <td>...</td>\n",
       "      <td>...</td>\n",
       "      <td>...</td>\n",
       "      <td>...</td>\n",
       "      <td>...</td>\n",
       "      <td>...</td>\n",
       "      <td>...</td>\n",
       "      <td>...</td>\n",
       "      <td>...</td>\n",
       "      <td>...</td>\n",
       "      <td>...</td>\n",
       "      <td>...</td>\n",
       "    </tr>\n",
       "    <tr>\n",
       "      <th>9995</th>\n",
       "      <td>323164</td>\n",
       "      <td>26-39</td>\n",
       "      <td>female</td>\n",
       "      <td>majority</td>\n",
       "      <td>10-19y</td>\n",
       "      <td>university</td>\n",
       "      <td>high</td>\n",
       "      <td>0.582787</td>\n",
       "      <td>True</td>\n",
       "      <td>before 2015</td>\n",
       "      <td>...</td>\n",
       "      <td>False</td>\n",
       "      <td>10238</td>\n",
       "      <td>16000.0</td>\n",
       "      <td>sedan</td>\n",
       "      <td>0</td>\n",
       "      <td>0</td>\n",
       "      <td>1</td>\n",
       "      <td>False</td>\n",
       "      <td>85.765599</td>\n",
       "      <td>1333.333333</td>\n",
       "    </tr>\n",
       "    <tr>\n",
       "      <th>9996</th>\n",
       "      <td>910346</td>\n",
       "      <td>26-39</td>\n",
       "      <td>female</td>\n",
       "      <td>majority</td>\n",
       "      <td>10-19y</td>\n",
       "      <td>none</td>\n",
       "      <td>medium</td>\n",
       "      <td>0.522231</td>\n",
       "      <td>True</td>\n",
       "      <td>after 2015</td>\n",
       "      <td>...</td>\n",
       "      <td>True</td>\n",
       "      <td>32765</td>\n",
       "      <td>NaN</td>\n",
       "      <td>sedan</td>\n",
       "      <td>1</td>\n",
       "      <td>0</td>\n",
       "      <td>0</td>\n",
       "      <td>False</td>\n",
       "      <td>89.750884</td>\n",
       "      <td>NaN</td>\n",
       "    </tr>\n",
       "    <tr>\n",
       "      <th>9997</th>\n",
       "      <td>468409</td>\n",
       "      <td>26-39</td>\n",
       "      <td>male</td>\n",
       "      <td>majority</td>\n",
       "      <td>0-9y</td>\n",
       "      <td>high school</td>\n",
       "      <td>medium</td>\n",
       "      <td>0.470940</td>\n",
       "      <td>True</td>\n",
       "      <td>before 2015</td>\n",
       "      <td>...</td>\n",
       "      <td>True</td>\n",
       "      <td>10238</td>\n",
       "      <td>14000.0</td>\n",
       "      <td>sedan</td>\n",
       "      <td>0</td>\n",
       "      <td>0</td>\n",
       "      <td>0</td>\n",
       "      <td>False</td>\n",
       "      <td>94.670792</td>\n",
       "      <td>1166.666667</td>\n",
       "    </tr>\n",
       "    <tr>\n",
       "      <th>9998</th>\n",
       "      <td>903459</td>\n",
       "      <td>26-39</td>\n",
       "      <td>female</td>\n",
       "      <td>majority</td>\n",
       "      <td>10-19y</td>\n",
       "      <td>high school</td>\n",
       "      <td>very low</td>\n",
       "      <td>0.364185</td>\n",
       "      <td>False</td>\n",
       "      <td>before 2015</td>\n",
       "      <td>...</td>\n",
       "      <td>True</td>\n",
       "      <td>10238</td>\n",
       "      <td>13000.0</td>\n",
       "      <td>sedan</td>\n",
       "      <td>2</td>\n",
       "      <td>0</td>\n",
       "      <td>1</td>\n",
       "      <td>True</td>\n",
       "      <td>39.748799</td>\n",
       "      <td>1083.333333</td>\n",
       "    </tr>\n",
       "    <tr>\n",
       "      <th>9999</th>\n",
       "      <td>442696</td>\n",
       "      <td>26-39</td>\n",
       "      <td>female</td>\n",
       "      <td>majority</td>\n",
       "      <td>0-9y</td>\n",
       "      <td>none</td>\n",
       "      <td>low</td>\n",
       "      <td>0.435225</td>\n",
       "      <td>True</td>\n",
       "      <td>before 2015</td>\n",
       "      <td>...</td>\n",
       "      <td>True</td>\n",
       "      <td>10238</td>\n",
       "      <td>13000.0</td>\n",
       "      <td>sedan</td>\n",
       "      <td>0</td>\n",
       "      <td>0</td>\n",
       "      <td>0</td>\n",
       "      <td>False</td>\n",
       "      <td>21.714040</td>\n",
       "      <td>1083.333333</td>\n",
       "    </tr>\n",
       "  </tbody>\n",
       "</table>\n",
       "<p>10000 rows × 21 columns</p>\n",
       "</div>"
      ],
      "text/plain": [
       "          id    age  gender      race driving_experience    education  \\\n",
       "0     569520    65+  female  majority               0-9y  high school   \n",
       "1     750365  16-25    male  majority               0-9y         none   \n",
       "2     199901  16-25  female  majority               0-9y  high school   \n",
       "3     478866  16-25    male  majority               0-9y   university   \n",
       "4     731664  26-39    male  majority             10-19y         none   \n",
       "...      ...    ...     ...       ...                ...          ...   \n",
       "9995  323164  26-39  female  majority             10-19y   university   \n",
       "9996  910346  26-39  female  majority             10-19y         none   \n",
       "9997  468409  26-39    male  majority               0-9y  high school   \n",
       "9998  903459  26-39  female  majority             10-19y  high school   \n",
       "9999  442696  26-39  female  majority               0-9y         none   \n",
       "\n",
       "        income  credit_score  vehicle_ownership vehicle_year  ...  children  \\\n",
       "0         high      0.629027               True   after 2015  ...      True   \n",
       "1     very low      0.357757              False  before 2015  ...     False   \n",
       "2          low      0.493146               True  before 2015  ...     False   \n",
       "3          low      0.206013               True  before 2015  ...      True   \n",
       "4          low      0.388366               True  before 2015  ...     False   \n",
       "...        ...           ...                ...          ...  ...       ...   \n",
       "9995      high      0.582787               True  before 2015  ...     False   \n",
       "9996    medium      0.522231               True   after 2015  ...      True   \n",
       "9997    medium      0.470940               True  before 2015  ...      True   \n",
       "9998  very low      0.364185              False  before 2015  ...      True   \n",
       "9999       low      0.435225               True  before 2015  ...      True   \n",
       "\n",
       "      postal_code  annual_mileage  vehicle_type speeding_violations  DUIs  \\\n",
       "0           10238         12000.0         sedan                   0     0   \n",
       "1           10238         16000.0         sedan                   0     0   \n",
       "2           10238         11000.0         sedan                   0     0   \n",
       "3           32765         11000.0         sedan                   0     0   \n",
       "4           32765         12000.0         sedan                   2     0   \n",
       "...           ...             ...           ...                 ...   ...   \n",
       "9995        10238         16000.0         sedan                   0     0   \n",
       "9996        32765             NaN         sedan                   1     0   \n",
       "9997        10238         14000.0         sedan                   0     0   \n",
       "9998        10238         13000.0         sedan                   2     0   \n",
       "9999        10238         13000.0         sedan                   0     0   \n",
       "\n",
       "      past_accidents  outcome  telematic_score  monthly_mileage  \n",
       "0                  0    False        37.454012      1000.000000  \n",
       "1                  0     True        95.071431      1333.333333  \n",
       "2                  0    False        73.199394       916.666667  \n",
       "3                  0    False        59.865848       916.666667  \n",
       "4                  1     True        15.601864      1000.000000  \n",
       "...              ...      ...              ...              ...  \n",
       "9995               1    False        85.765599      1333.333333  \n",
       "9996               0    False        89.750884              NaN  \n",
       "9997               0    False        94.670792      1166.666667  \n",
       "9998               1     True        39.748799      1083.333333  \n",
       "9999               0    False        21.714040      1083.333333  \n",
       "\n",
       "[10000 rows x 21 columns]"
      ]
     },
     "execution_count": 80,
     "metadata": {},
     "output_type": "execute_result"
    }
   ],
   "source": [
    "dataset"
   ]
  },
  {
   "cell_type": "code",
   "execution_count": 82,
   "metadata": {},
   "outputs": [],
   "source": [
    "#Filtering the outcome and vehicle _year column based on the creddit score below 0.2\n",
    "scoreBelow=dataset[dataset[\"credit_score\"]<=0.2][[\"outcome\",\"vehicle_year\"]]"
   ]
  },
  {
   "cell_type": "code",
   "execution_count": 83,
   "metadata": {},
   "outputs": [
    {
     "data": {
      "text/plain": [
       "98"
      ]
     },
     "execution_count": 83,
     "metadata": {},
     "output_type": "execute_result"
    }
   ],
   "source": [
    "#len of the score below 0.2\n",
    "len(scoreBelow)"
   ]
  },
  {
   "cell_type": "code",
   "execution_count": 84,
   "metadata": {},
   "outputs": [],
   "source": [
    "#Filtering the dataset for the last year(As per the dataset only vehicle year is present.So calculated using the same.)\n",
    "claim=scoreBelow[scoreBelow[\"vehicle_year\"]==\"after 2015\"][\"outcome\"]"
   ]
  },
  {
   "cell_type": "code",
   "execution_count": 85,
   "metadata": {},
   "outputs": [
    {
     "name": "stdout",
     "output_type": "stream",
     "text": [
      "The total count of the credit score: 10000\n"
     ]
    }
   ],
   "source": [
    "print(\"The total count of the credit score:\",len(dataset))"
   ]
  },
  {
   "cell_type": "code",
   "execution_count": 86,
   "metadata": {},
   "outputs": [
    {
     "name": "stdout",
     "output_type": "stream",
     "text": [
      "The Total count of below 0.2: 11\n"
     ]
    }
   ],
   "source": [
    "print(\"The Total count of below 0.2:\",len(claim))"
   ]
  },
  {
   "cell_type": "code",
   "execution_count": 87,
   "metadata": {},
   "outputs": [],
   "source": [
    "claimedTrue=claim.value_counts()[1]"
   ]
  },
  {
   "cell_type": "code",
   "execution_count": 88,
   "metadata": {},
   "outputs": [
    {
     "name": "stdout",
     "output_type": "stream",
     "text": [
      "The claim for below 0.2: 1\n"
     ]
    }
   ],
   "source": [
    "print(\"The claim for below 0.2:\",claimedTrue)"
   ]
  },
  {
   "cell_type": "code",
   "execution_count": 89,
   "metadata": {},
   "outputs": [],
   "source": [
    "percentage=(claimedTrue/len(dataset))*100"
   ]
  },
  {
   "cell_type": "code",
   "execution_count": 90,
   "metadata": {},
   "outputs": [
    {
     "name": "stdout",
     "output_type": "stream",
     "text": [
      "0.01 % of the customer claimed with credit score below 0.2 in the last year \n"
     ]
    }
   ],
   "source": [
    "print(percentage,\"% of the customer claimed with credit score below 0.2 in the last year \")"
   ]
  },
  {
   "cell_type": "code",
   "execution_count": 91,
   "metadata": {},
   "outputs": [
    {
     "name": "stdout",
     "output_type": "stream",
     "text": [
      "1:10000 proportion of customers with a credit score below 0.2 made a claim in the last year\n"
     ]
    }
   ],
   "source": [
    "print(\"{}:{} proportion of customers with a credit score below 0.2 made a claim in the last year\".format(claimedTrue,len(dataset)))"
   ]
  },
  {
   "cell_type": "markdown",
   "metadata": {},
   "source": [
    "## 1.2.  Produce a maximum of 3 plots to help the client understand their data better. \n",
    "## Explain what the plots show/any insight they provide the client about their data."
   ]
  },
  {
   "cell_type": "code",
   "execution_count": 92,
   "metadata": {},
   "outputs": [],
   "source": [
    "### univarite Analysis--> Single column Analysis"
   ]
  },
  {
   "cell_type": "code",
   "execution_count": 93,
   "metadata": {},
   "outputs": [],
   "source": [
    "import seaborn as sb"
   ]
  },
  {
   "cell_type": "code",
   "execution_count": 95,
   "metadata": {},
   "outputs": [
    {
     "ename": "ValueError",
     "evalue": "cannot convert float NaN to integer",
     "output_type": "error",
     "traceback": [
      "\u001b[1;31m---------------------------------------------------------------------------\u001b[0m",
      "\u001b[1;31mValueError\u001b[0m                                Traceback (most recent call last)",
      "\u001b[1;32m<ipython-input-95-3bcb66cccfa4>\u001b[0m in \u001b[0;36m<module>\u001b[1;34m\u001b[0m\n\u001b[0;32m      1\u001b[0m \u001b[1;31m#Here i have shown the density curve for the credit_score. This graph tells that majority of points lies between 0.2 to 0.8\u001b[0m\u001b[1;33m\u001b[0m\u001b[1;33m\u001b[0m\u001b[1;33m\u001b[0m\u001b[0m\n\u001b[1;32m----> 2\u001b[1;33m \u001b[0msb\u001b[0m\u001b[1;33m.\u001b[0m\u001b[0mdistplot\u001b[0m\u001b[1;33m(\u001b[0m\u001b[0mdataset\u001b[0m\u001b[1;33m[\u001b[0m\u001b[1;34m'credit_score'\u001b[0m\u001b[1;33m]\u001b[0m\u001b[1;33m,\u001b[0m\u001b[0mhist\u001b[0m\u001b[1;33m=\u001b[0m\u001b[1;32mTrue\u001b[0m\u001b[1;33m,\u001b[0m\u001b[0mkde\u001b[0m\u001b[1;33m=\u001b[0m\u001b[1;32mTrue\u001b[0m\u001b[1;33m,\u001b[0m\u001b[0mkde_kws\u001b[0m\u001b[1;33m=\u001b[0m\u001b[1;33m{\u001b[0m\u001b[1;34m'color'\u001b[0m\u001b[1;33m:\u001b[0m\u001b[1;34m'red'\u001b[0m\u001b[1;33m}\u001b[0m\u001b[1;33m)\u001b[0m\u001b[1;33m\u001b[0m\u001b[1;33m\u001b[0m\u001b[0m\n\u001b[0m",
      "\u001b[1;32mC:\\Anaconda3\\envs\\tf\\lib\\site-packages\\seaborn\\distributions.py\u001b[0m in \u001b[0;36mdistplot\u001b[1;34m(a, bins, hist, kde, rug, fit, hist_kws, kde_kws, rug_kws, fit_kws, color, vertical, norm_hist, axlabel, label, ax)\u001b[0m\n\u001b[0;32m    213\u001b[0m     \u001b[1;32mif\u001b[0m \u001b[0mhist\u001b[0m\u001b[1;33m:\u001b[0m\u001b[1;33m\u001b[0m\u001b[1;33m\u001b[0m\u001b[0m\n\u001b[0;32m    214\u001b[0m         \u001b[1;32mif\u001b[0m \u001b[0mbins\u001b[0m \u001b[1;32mis\u001b[0m \u001b[1;32mNone\u001b[0m\u001b[1;33m:\u001b[0m\u001b[1;33m\u001b[0m\u001b[1;33m\u001b[0m\u001b[0m\n\u001b[1;32m--> 215\u001b[1;33m             \u001b[0mbins\u001b[0m \u001b[1;33m=\u001b[0m \u001b[0mmin\u001b[0m\u001b[1;33m(\u001b[0m\u001b[0m_freedman_diaconis_bins\u001b[0m\u001b[1;33m(\u001b[0m\u001b[0ma\u001b[0m\u001b[1;33m)\u001b[0m\u001b[1;33m,\u001b[0m \u001b[1;36m50\u001b[0m\u001b[1;33m)\u001b[0m\u001b[1;33m\u001b[0m\u001b[1;33m\u001b[0m\u001b[0m\n\u001b[0m\u001b[0;32m    216\u001b[0m         \u001b[0mhist_kws\u001b[0m\u001b[1;33m.\u001b[0m\u001b[0msetdefault\u001b[0m\u001b[1;33m(\u001b[0m\u001b[1;34m\"alpha\"\u001b[0m\u001b[1;33m,\u001b[0m \u001b[1;36m0.4\u001b[0m\u001b[1;33m)\u001b[0m\u001b[1;33m\u001b[0m\u001b[1;33m\u001b[0m\u001b[0m\n\u001b[0;32m    217\u001b[0m         \u001b[1;32mif\u001b[0m \u001b[0mLooseVersion\u001b[0m\u001b[1;33m(\u001b[0m\u001b[0mmpl\u001b[0m\u001b[1;33m.\u001b[0m\u001b[0m__version__\u001b[0m\u001b[1;33m)\u001b[0m \u001b[1;33m<\u001b[0m \u001b[0mLooseVersion\u001b[0m\u001b[1;33m(\u001b[0m\u001b[1;34m\"2.2\"\u001b[0m\u001b[1;33m)\u001b[0m\u001b[1;33m:\u001b[0m\u001b[1;33m\u001b[0m\u001b[1;33m\u001b[0m\u001b[0m\n",
      "\u001b[1;32mC:\\Anaconda3\\envs\\tf\\lib\\site-packages\\seaborn\\distributions.py\u001b[0m in \u001b[0;36m_freedman_diaconis_bins\u001b[1;34m(a)\u001b[0m\n\u001b[0;32m     37\u001b[0m         \u001b[1;32mreturn\u001b[0m \u001b[0mint\u001b[0m\u001b[1;33m(\u001b[0m\u001b[0mnp\u001b[0m\u001b[1;33m.\u001b[0m\u001b[0msqrt\u001b[0m\u001b[1;33m(\u001b[0m\u001b[0ma\u001b[0m\u001b[1;33m.\u001b[0m\u001b[0msize\u001b[0m\u001b[1;33m)\u001b[0m\u001b[1;33m)\u001b[0m\u001b[1;33m\u001b[0m\u001b[1;33m\u001b[0m\u001b[0m\n\u001b[0;32m     38\u001b[0m     \u001b[1;32melse\u001b[0m\u001b[1;33m:\u001b[0m\u001b[1;33m\u001b[0m\u001b[1;33m\u001b[0m\u001b[0m\n\u001b[1;32m---> 39\u001b[1;33m         \u001b[1;32mreturn\u001b[0m \u001b[0mint\u001b[0m\u001b[1;33m(\u001b[0m\u001b[0mnp\u001b[0m\u001b[1;33m.\u001b[0m\u001b[0mceil\u001b[0m\u001b[1;33m(\u001b[0m\u001b[1;33m(\u001b[0m\u001b[0ma\u001b[0m\u001b[1;33m.\u001b[0m\u001b[0mmax\u001b[0m\u001b[1;33m(\u001b[0m\u001b[1;33m)\u001b[0m \u001b[1;33m-\u001b[0m \u001b[0ma\u001b[0m\u001b[1;33m.\u001b[0m\u001b[0mmin\u001b[0m\u001b[1;33m(\u001b[0m\u001b[1;33m)\u001b[0m\u001b[1;33m)\u001b[0m \u001b[1;33m/\u001b[0m \u001b[0mh\u001b[0m\u001b[1;33m)\u001b[0m\u001b[1;33m)\u001b[0m\u001b[1;33m\u001b[0m\u001b[1;33m\u001b[0m\u001b[0m\n\u001b[0m\u001b[0;32m     40\u001b[0m \u001b[1;33m\u001b[0m\u001b[0m\n\u001b[0;32m     41\u001b[0m \u001b[1;33m\u001b[0m\u001b[0m\n",
      "\u001b[1;31mValueError\u001b[0m: cannot convert float NaN to integer"
     ]
    },
    {
     "data": {
      "image/png": "[encoded data removed]",
      "text/plain": [
       "<Figure size 432x288 with 1 Axes>"
      ]
     },
     "metadata": {
      "needs_background": "light"
     },
     "output_type": "display_data"
    }
   ],
   "source": [
    "#Here i have shown the density curve for the credit_score. This graph tells that majority of points lies between 0.2 to 0.8\n",
    "sb.distplot(dataset['credit_score'],hist=True,kde=True,kde_kws={'color':'red'})"
   ]
  },
  {
   "cell_type": "code",
   "execution_count": null,
   "metadata": {},
   "outputs": [],
   "source": []
  },
  {
   "cell_type": "code",
   "execution_count": 55,
   "metadata": {},
   "outputs": [
    {
     "data": {
      "text/plain": [
       "<AxesSubplot:xlabel='past_accidents'>"
      ]
     },
     "execution_count": 55,
     "metadata": {},
     "output_type": "execute_result"
    },
    {
     "data": {
      "image/png": "[encoded data removed]",
      "text/plain": [
       "<Figure size 432x288 with 1 Axes>"
      ]
     },
     "metadata": {
      "needs_background": "light"
     },
     "output_type": "display_data"
    }
   ],
   "source": [
    "# This plot tells that majority value lies in the Zero.So accident happening is less.\n",
    "sb.distplot(dataset['past_accidents'],hist=True,kde=True,kde_kws={'color':'red'})"
   ]
  },
  {
   "cell_type": "code",
   "execution_count": 63,
   "metadata": {},
   "outputs": [],
   "source": [
    "import matplotlib.pyplot as plt"
   ]
  },
  {
   "cell_type": "code",
   "execution_count": 72,
   "metadata": {},
   "outputs": [
    {
     "data": {
      "text/plain": [
       "<AxesSubplot:>"
      ]
     },
     "execution_count": 72,
     "metadata": {},
     "output_type": "execute_result"
    },
    {
     "data": {
      "image/png": "[encoded data removed]",
      "text/plain": [
       "<Figure size 432x288 with 1 Axes>"
      ]
     },
     "metadata": {
      "needs_background": "light"
     },
     "output_type": "display_data"
    }
   ],
   "source": [
    "# Box plot tells that percentile of the column,here have plotted for the single variable to see clear value.\n",
    "#down 1st horizontal line min -->min of the between 0.2\n",
    "#2nd horizontal line q1-->25% of the data(person values) lies between 0.4.2\n",
    "#3rd horizontal line q2-->50% of the data(person values) lies between 0.5\n",
    "#4th horizontal line q3-->75% of the data(person values) lies between 0.6\n",
    "#5th horizontal line q2-->100% of the data(person values) lies between 0.8\n",
    "\n",
    "#very small chnage from 25% to 50 %\n",
    "dataset.boxplot(column=[\"credit_scores\"])"
   ]
  },
  {
   "cell_type": "code",
   "execution_count": null,
   "metadata": {},
   "outputs": [],
   "source": []
  }
 ],
 "metadata": {
  "kernelspec": {
   "display_name": "Python 3",
   "language": "python",
   "name": "python3"
  },
  "language_info": {
   "codemirror_mode": {
    "name": "ipython",
    "version": 3
   },
   "file_extension": ".py",
   "mimetype": "text/x-python",
   "name": "python",
   "nbconvert_exporter": "python",
   "pygments_lexer": "ipython3",
   "version": "3.7.6"
  }
 },
 "nbformat": 4,
 "nbformat_minor": 2
}
