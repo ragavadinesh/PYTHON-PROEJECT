{
 "cells": [
  {
   "cell_type": "markdown",
   "metadata": {},
   "source": [
    "## Select and fit one proof of concept model to predict the outcome column from the customer data. State the reasons for the choice of model used.\n"
   ]
  },
  {
   "cell_type": "code",
   "execution_count": 1,
   "metadata": {},
   "outputs": [],
   "source": [
    "import pandas as pd"
   ]
  },
  {
   "cell_type": "code",
   "execution_count": 2,
   "metadata": {},
   "outputs": [],
   "source": [
    "dataset=pd.read_csv(\"preprocessed_customerdata.csv\")"
   ]
  },
  {
   "cell_type": "code",
   "execution_count": 3,
   "metadata": {},
   "outputs": [],
   "source": [
    "dataset_=pd.get_dummies(dataset,drop_first=True)"
   ]
  },
  {
   "cell_type": "code",
   "execution_count": 4,
   "metadata": {},
   "outputs": [],
   "source": [
    "X=dataset_.drop([\"outcome\",\"id\"],axis=1)"
   ]
  },
  {
   "cell_type": "code",
   "execution_count": 5,
   "metadata": {},
   "outputs": [
    {
     "data": {
      "text/html": [
       "<div>\n",
       "<style scoped>\n",
       "    .dataframe tbody tr th:only-of-type {\n",
       "        vertical-align: middle;\n",
       "    }\n",
       "\n",
       "    .dataframe tbody tr th {\n",
       "        vertical-align: top;\n",
       "    }\n",
       "\n",
       "    .dataframe thead th {\n",
       "        text-align: right;\n",
       "    }\n",
       "</style>\n",
       "<table border=\"1\" class=\"dataframe\">\n",
       "  <thead>\n",
       "    <tr style=\"text-align: right;\">\n",
       "      <th></th>\n",
       "      <th>vehicle_ownership</th>\n",
       "      <th>married</th>\n",
       "      <th>children</th>\n",
       "      <th>postal_code</th>\n",
       "      <th>speeding_violations</th>\n",
       "      <th>DUIs</th>\n",
       "      <th>past_accidents</th>\n",
       "      <th>telematic_score</th>\n",
       "      <th>credit_scores</th>\n",
       "      <th>annual_mileages</th>\n",
       "      <th>...</th>\n",
       "      <th>driving_experience_10-19y</th>\n",
       "      <th>driving_experience_20-29y</th>\n",
       "      <th>driving_experience_30y+</th>\n",
       "      <th>education_none</th>\n",
       "      <th>education_university</th>\n",
       "      <th>income_low</th>\n",
       "      <th>income_medium</th>\n",
       "      <th>income_very low</th>\n",
       "      <th>vehicle_year_before 2015</th>\n",
       "      <th>vehicle_type_sports car</th>\n",
       "    </tr>\n",
       "  </thead>\n",
       "  <tbody>\n",
       "    <tr>\n",
       "      <th>0</th>\n",
       "      <td>True</td>\n",
       "      <td>False</td>\n",
       "      <td>True</td>\n",
       "      <td>10238</td>\n",
       "      <td>0</td>\n",
       "      <td>0</td>\n",
       "      <td>0</td>\n",
       "      <td>37.454012</td>\n",
       "      <td>0.629027</td>\n",
       "      <td>12000.000000</td>\n",
       "      <td>...</td>\n",
       "      <td>0</td>\n",
       "      <td>0</td>\n",
       "      <td>0</td>\n",
       "      <td>0</td>\n",
       "      <td>0</td>\n",
       "      <td>0</td>\n",
       "      <td>0</td>\n",
       "      <td>0</td>\n",
       "      <td>0</td>\n",
       "      <td>0</td>\n",
       "    </tr>\n",
       "    <tr>\n",
       "      <th>1</th>\n",
       "      <td>False</td>\n",
       "      <td>False</td>\n",
       "      <td>False</td>\n",
       "      <td>10238</td>\n",
       "      <td>0</td>\n",
       "      <td>0</td>\n",
       "      <td>0</td>\n",
       "      <td>95.071431</td>\n",
       "      <td>0.357757</td>\n",
       "      <td>16000.000000</td>\n",
       "      <td>...</td>\n",
       "      <td>0</td>\n",
       "      <td>0</td>\n",
       "      <td>0</td>\n",
       "      <td>1</td>\n",
       "      <td>0</td>\n",
       "      <td>0</td>\n",
       "      <td>0</td>\n",
       "      <td>1</td>\n",
       "      <td>1</td>\n",
       "      <td>0</td>\n",
       "    </tr>\n",
       "    <tr>\n",
       "      <th>2</th>\n",
       "      <td>True</td>\n",
       "      <td>False</td>\n",
       "      <td>False</td>\n",
       "      <td>10238</td>\n",
       "      <td>0</td>\n",
       "      <td>0</td>\n",
       "      <td>0</td>\n",
       "      <td>73.199394</td>\n",
       "      <td>0.493146</td>\n",
       "      <td>11000.000000</td>\n",
       "      <td>...</td>\n",
       "      <td>0</td>\n",
       "      <td>0</td>\n",
       "      <td>0</td>\n",
       "      <td>0</td>\n",
       "      <td>0</td>\n",
       "      <td>1</td>\n",
       "      <td>0</td>\n",
       "      <td>0</td>\n",
       "      <td>1</td>\n",
       "      <td>0</td>\n",
       "    </tr>\n",
       "    <tr>\n",
       "      <th>3</th>\n",
       "      <td>True</td>\n",
       "      <td>False</td>\n",
       "      <td>True</td>\n",
       "      <td>32765</td>\n",
       "      <td>0</td>\n",
       "      <td>0</td>\n",
       "      <td>0</td>\n",
       "      <td>59.865848</td>\n",
       "      <td>0.206013</td>\n",
       "      <td>11000.000000</td>\n",
       "      <td>...</td>\n",
       "      <td>0</td>\n",
       "      <td>0</td>\n",
       "      <td>0</td>\n",
       "      <td>0</td>\n",
       "      <td>1</td>\n",
       "      <td>1</td>\n",
       "      <td>0</td>\n",
       "      <td>0</td>\n",
       "      <td>1</td>\n",
       "      <td>0</td>\n",
       "    </tr>\n",
       "    <tr>\n",
       "      <th>4</th>\n",
       "      <td>True</td>\n",
       "      <td>False</td>\n",
       "      <td>False</td>\n",
       "      <td>32765</td>\n",
       "      <td>2</td>\n",
       "      <td>0</td>\n",
       "      <td>1</td>\n",
       "      <td>15.601864</td>\n",
       "      <td>0.388366</td>\n",
       "      <td>12000.000000</td>\n",
       "      <td>...</td>\n",
       "      <td>1</td>\n",
       "      <td>0</td>\n",
       "      <td>0</td>\n",
       "      <td>1</td>\n",
       "      <td>0</td>\n",
       "      <td>1</td>\n",
       "      <td>0</td>\n",
       "      <td>0</td>\n",
       "      <td>1</td>\n",
       "      <td>0</td>\n",
       "    </tr>\n",
       "    <tr>\n",
       "      <th>...</th>\n",
       "      <td>...</td>\n",
       "      <td>...</td>\n",
       "      <td>...</td>\n",
       "      <td>...</td>\n",
       "      <td>...</td>\n",
       "      <td>...</td>\n",
       "      <td>...</td>\n",
       "      <td>...</td>\n",
       "      <td>...</td>\n",
       "      <td>...</td>\n",
       "      <td>...</td>\n",
       "      <td>...</td>\n",
       "      <td>...</td>\n",
       "      <td>...</td>\n",
       "      <td>...</td>\n",
       "      <td>...</td>\n",
       "      <td>...</td>\n",
       "      <td>...</td>\n",
       "      <td>...</td>\n",
       "      <td>...</td>\n",
       "      <td>...</td>\n",
       "    </tr>\n",
       "    <tr>\n",
       "      <th>9995</th>\n",
       "      <td>True</td>\n",
       "      <td>False</td>\n",
       "      <td>False</td>\n",
       "      <td>10238</td>\n",
       "      <td>0</td>\n",
       "      <td>0</td>\n",
       "      <td>1</td>\n",
       "      <td>85.765599</td>\n",
       "      <td>0.582787</td>\n",
       "      <td>16000.000000</td>\n",
       "      <td>...</td>\n",
       "      <td>1</td>\n",
       "      <td>0</td>\n",
       "      <td>0</td>\n",
       "      <td>0</td>\n",
       "      <td>1</td>\n",
       "      <td>0</td>\n",
       "      <td>0</td>\n",
       "      <td>0</td>\n",
       "      <td>1</td>\n",
       "      <td>0</td>\n",
       "    </tr>\n",
       "    <tr>\n",
       "      <th>9996</th>\n",
       "      <td>True</td>\n",
       "      <td>False</td>\n",
       "      <td>True</td>\n",
       "      <td>32765</td>\n",
       "      <td>1</td>\n",
       "      <td>0</td>\n",
       "      <td>0</td>\n",
       "      <td>89.750884</td>\n",
       "      <td>0.522231</td>\n",
       "      <td>11697.003207</td>\n",
       "      <td>...</td>\n",
       "      <td>1</td>\n",
       "      <td>0</td>\n",
       "      <td>0</td>\n",
       "      <td>1</td>\n",
       "      <td>0</td>\n",
       "      <td>0</td>\n",
       "      <td>1</td>\n",
       "      <td>0</td>\n",
       "      <td>0</td>\n",
       "      <td>0</td>\n",
       "    </tr>\n",
       "    <tr>\n",
       "      <th>9997</th>\n",
       "      <td>True</td>\n",
       "      <td>False</td>\n",
       "      <td>True</td>\n",
       "      <td>10238</td>\n",
       "      <td>0</td>\n",
       "      <td>0</td>\n",
       "      <td>0</td>\n",
       "      <td>94.670792</td>\n",
       "      <td>0.470940</td>\n",
       "      <td>14000.000000</td>\n",
       "      <td>...</td>\n",
       "      <td>0</td>\n",
       "      <td>0</td>\n",
       "      <td>0</td>\n",
       "      <td>0</td>\n",
       "      <td>0</td>\n",
       "      <td>0</td>\n",
       "      <td>1</td>\n",
       "      <td>0</td>\n",
       "      <td>1</td>\n",
       "      <td>0</td>\n",
       "    </tr>\n",
       "    <tr>\n",
       "      <th>9998</th>\n",
       "      <td>False</td>\n",
       "      <td>False</td>\n",
       "      <td>True</td>\n",
       "      <td>10238</td>\n",
       "      <td>2</td>\n",
       "      <td>0</td>\n",
       "      <td>1</td>\n",
       "      <td>39.748799</td>\n",
       "      <td>0.364185</td>\n",
       "      <td>13000.000000</td>\n",
       "      <td>...</td>\n",
       "      <td>1</td>\n",
       "      <td>0</td>\n",
       "      <td>0</td>\n",
       "      <td>0</td>\n",
       "      <td>0</td>\n",
       "      <td>0</td>\n",
       "      <td>0</td>\n",
       "      <td>1</td>\n",
       "      <td>1</td>\n",
       "      <td>0</td>\n",
       "    </tr>\n",
       "    <tr>\n",
       "      <th>9999</th>\n",
       "      <td>True</td>\n",
       "      <td>True</td>\n",
       "      <td>True</td>\n",
       "      <td>10238</td>\n",
       "      <td>0</td>\n",
       "      <td>0</td>\n",
       "      <td>0</td>\n",
       "      <td>21.714040</td>\n",
       "      <td>0.435225</td>\n",
       "      <td>13000.000000</td>\n",
       "      <td>...</td>\n",
       "      <td>0</td>\n",
       "      <td>0</td>\n",
       "      <td>0</td>\n",
       "      <td>1</td>\n",
       "      <td>0</td>\n",
       "      <td>1</td>\n",
       "      <td>0</td>\n",
       "      <td>0</td>\n",
       "      <td>1</td>\n",
       "      <td>0</td>\n",
       "    </tr>\n",
       "  </tbody>\n",
       "</table>\n",
       "<p>10000 rows × 26 columns</p>\n",
       "</div>"
      ],
      "text/plain": [
       "      vehicle_ownership  married  children  postal_code  speeding_violations  \\\n",
       "0                  True    False      True        10238                    0   \n",
       "1                 False    False     False        10238                    0   \n",
       "2                  True    False     False        10238                    0   \n",
       "3                  True    False      True        32765                    0   \n",
       "4                  True    False     False        32765                    2   \n",
       "...                 ...      ...       ...          ...                  ...   \n",
       "9995               True    False     False        10238                    0   \n",
       "9996               True    False      True        32765                    1   \n",
       "9997               True    False      True        10238                    0   \n",
       "9998              False    False      True        10238                    2   \n",
       "9999               True     True      True        10238                    0   \n",
       "\n",
       "      DUIs  past_accidents  telematic_score  credit_scores  annual_mileages  \\\n",
       "0        0               0        37.454012       0.629027     12000.000000   \n",
       "1        0               0        95.071431       0.357757     16000.000000   \n",
       "2        0               0        73.199394       0.493146     11000.000000   \n",
       "3        0               0        59.865848       0.206013     11000.000000   \n",
       "4        0               1        15.601864       0.388366     12000.000000   \n",
       "...    ...             ...              ...            ...              ...   \n",
       "9995     0               1        85.765599       0.582787     16000.000000   \n",
       "9996     0               0        89.750884       0.522231     11697.003207   \n",
       "9997     0               0        94.670792       0.470940     14000.000000   \n",
       "9998     0               1        39.748799       0.364185     13000.000000   \n",
       "9999     0               0        21.714040       0.435225     13000.000000   \n",
       "\n",
       "      ...  driving_experience_10-19y  driving_experience_20-29y  \\\n",
       "0     ...                          0                          0   \n",
       "1     ...                          0                          0   \n",
       "2     ...                          0                          0   \n",
       "3     ...                          0                          0   \n",
       "4     ...                          1                          0   \n",
       "...   ...                        ...                        ...   \n",
       "9995  ...                          1                          0   \n",
       "9996  ...                          1                          0   \n",
       "9997  ...                          0                          0   \n",
       "9998  ...                          1                          0   \n",
       "9999  ...                          0                          0   \n",
       "\n",
       "      driving_experience_30y+  education_none  education_university  \\\n",
       "0                           0               0                     0   \n",
       "1                           0               1                     0   \n",
       "2                           0               0                     0   \n",
       "3                           0               0                     1   \n",
       "4                           0               1                     0   \n",
       "...                       ...             ...                   ...   \n",
       "9995                        0               0                     1   \n",
       "9996                        0               1                     0   \n",
       "9997                        0               0                     0   \n",
       "9998                        0               0                     0   \n",
       "9999                        0               1                     0   \n",
       "\n",
       "      income_low  income_medium  income_very low  vehicle_year_before 2015  \\\n",
       "0              0              0                0                         0   \n",
       "1              0              0                1                         1   \n",
       "2              1              0                0                         1   \n",
       "3              1              0                0                         1   \n",
       "4              1              0                0                         1   \n",
       "...          ...            ...              ...                       ...   \n",
       "9995           0              0                0                         1   \n",
       "9996           0              1                0                         0   \n",
       "9997           0              1                0                         1   \n",
       "9998           0              0                1                         1   \n",
       "9999           1              0                0                         1   \n",
       "\n",
       "      vehicle_type_sports car  \n",
       "0                           0  \n",
       "1                           0  \n",
       "2                           0  \n",
       "3                           0  \n",
       "4                           0  \n",
       "...                       ...  \n",
       "9995                        0  \n",
       "9996                        0  \n",
       "9997                        0  \n",
       "9998                        0  \n",
       "9999                        0  \n",
       "\n",
       "[10000 rows x 26 columns]"
      ]
     },
     "execution_count": 5,
     "metadata": {},
     "output_type": "execute_result"
    }
   ],
   "source": [
    "X"
   ]
  },
  {
   "cell_type": "code",
   "execution_count": 6,
   "metadata": {},
   "outputs": [],
   "source": [
    "y=dataset_[\"outcome\"]"
   ]
  },
  {
   "cell_type": "code",
   "execution_count": 7,
   "metadata": {},
   "outputs": [
    {
     "data": {
      "text/plain": [
       "False    6867\n",
       "True     3133\n",
       "Name: outcome, dtype: int64"
      ]
     },
     "execution_count": 7,
     "metadata": {},
     "output_type": "execute_result"
    }
   ],
   "source": [
    "dataset_[\"outcome\"].value_counts()"
   ]
  },
  {
   "cell_type": "code",
   "execution_count": 8,
   "metadata": {},
   "outputs": [],
   "source": [
    "from sklearn.model_selection import train_test_split\n",
    "X_train, X_test, y_train, y_test = train_test_split(X, y, test_size = 0.25, random_state = 0)"
   ]
  },
  {
   "cell_type": "code",
   "execution_count": 9,
   "metadata": {},
   "outputs": [],
   "source": [
    "from sklearn.preprocessing import StandardScaler\n",
    "sc = StandardScaler()\n",
    "X_train = sc.fit_transform(X_train)\n",
    "X_test = sc.transform(X_test)"
   ]
  },
  {
   "cell_type": "code",
   "execution_count": 10,
   "metadata": {},
   "outputs": [],
   "source": [
    "from DescriptiveML import DescriptiveML\n",
    "\n",
    "obj=DescriptiveML()"
   ]
  },
  {
   "cell_type": "code",
   "execution_count": 11,
   "metadata": {},
   "outputs": [
    {
     "name": "stdout",
     "output_type": "stream",
     "text": [
      "[[1540  162]\n",
      " [ 290  508]]\n",
      "The Accuracy is: 0.8192\n",
      "              precision    recall  f1-score   support\n",
      "\n",
      "       False       0.84      0.90      0.87      1702\n",
      "        True       0.76      0.64      0.69       798\n",
      "\n",
      "    accuracy                           0.82      2500\n",
      "   macro avg       0.80      0.77      0.78      2500\n",
      "weighted avg       0.81      0.82      0.81      2500\n",
      "\n"
     ]
    },
    {
     "data": {
      "text/plain": [
       "(RandomForestClassifier(bootstrap=True, class_weight=None, criterion='entropy',\n",
       "                        max_depth=None, max_features='auto', max_leaf_nodes=None,\n",
       "                        min_impurity_decrease=0.0, min_impurity_split=None,\n",
       "                        min_samples_leaf=1, min_samples_split=2,\n",
       "                        min_weight_fraction_leaf=0.0, n_estimators=10,\n",
       "                        n_jobs=None, oob_score=False, random_state=0, verbose=0,\n",
       "                        warm_start=False), array([[1540,  162],\n",
       "        [ 290,  508]], dtype=int64), 0.8192)"
      ]
     },
     "execution_count": 11,
     "metadata": {},
     "output_type": "execute_result"
    }
   ],
   "source": [
    "obj.random_forest(X_train, X_test, y_train, y_test)"
   ]
  },
  {
   "cell_type": "code",
   "execution_count": 12,
   "metadata": {},
   "outputs": [
    {
     "name": "stdout",
     "output_type": "stream",
     "text": [
      "[[1452  250]\n",
      " [ 252  546]]\n",
      "The Accuracy is: 0.7992\n",
      "              precision    recall  f1-score   support\n",
      "\n",
      "       False       0.85      0.85      0.85      1702\n",
      "        True       0.69      0.68      0.69       798\n",
      "\n",
      "    accuracy                           0.80      2500\n",
      "   macro avg       0.77      0.77      0.77      2500\n",
      "weighted avg       0.80      0.80      0.80      2500\n",
      "\n"
     ]
    },
    {
     "data": {
      "text/plain": [
       "(DecisionTreeClassifier(class_weight=None, criterion='entropy', max_depth=None,\n",
       "                        max_features=None, max_leaf_nodes=None,\n",
       "                        min_impurity_decrease=0.0, min_impurity_split=None,\n",
       "                        min_samples_leaf=1, min_samples_split=2,\n",
       "                        min_weight_fraction_leaf=0.0, presort=False,\n",
       "                        random_state=0, splitter='best'), array([[1452,  250],\n",
       "        [ 252,  546]], dtype=int64), 0.7992)"
      ]
     },
     "execution_count": 12,
     "metadata": {},
     "output_type": "execute_result"
    }
   ],
   "source": [
    "obj.Decision_Tree(X_train, X_test, y_train, y_test)"
   ]
  },
  {
   "cell_type": "code",
   "execution_count": 13,
   "metadata": {},
   "outputs": [
    {
     "name": "stdout",
     "output_type": "stream",
     "text": [
      "[[1511  191]\n",
      " [ 295  503]]\n",
      "The Accuracy is: 0.8056\n",
      "              precision    recall  f1-score   support\n",
      "\n",
      "       False       0.84      0.89      0.86      1702\n",
      "        True       0.72      0.63      0.67       798\n",
      "\n",
      "    accuracy                           0.81      2500\n",
      "   macro avg       0.78      0.76      0.77      2500\n",
      "weighted avg       0.80      0.81      0.80      2500\n",
      "\n"
     ]
    },
    {
     "data": {
      "text/plain": [
       "(KNeighborsClassifier(algorithm='auto', leaf_size=30, metric='minkowski',\n",
       "                      metric_params=None, n_jobs=None, n_neighbors=5, p=2,\n",
       "                      weights='uniform'), array([[1511,  191],\n",
       "        [ 295,  503]], dtype=int64), 0.8056)"
      ]
     },
     "execution_count": 13,
     "metadata": {},
     "output_type": "execute_result"
    }
   ],
   "source": [
    "obj.Knn(X_train, X_test, y_train, y_test)"
   ]
  },
  {
   "cell_type": "code",
   "execution_count": 14,
   "metadata": {},
   "outputs": [
    {
     "name": "stdout",
     "output_type": "stream",
     "text": [
      "[[1202  500]\n",
      " [ 130  668]]\n",
      "The Accuracy is: 0.748\n",
      "              precision    recall  f1-score   support\n",
      "\n",
      "       False       0.90      0.71      0.79      1702\n",
      "        True       0.57      0.84      0.68       798\n",
      "\n",
      "    accuracy                           0.75      2500\n",
      "   macro avg       0.74      0.77      0.74      2500\n",
      "weighted avg       0.80      0.75      0.76      2500\n",
      "\n"
     ]
    },
    {
     "data": {
      "text/plain": [
       "(GaussianNB(priors=None, var_smoothing=1e-09), array([[1202,  500],\n",
       "        [ 130,  668]], dtype=int64), 0.748)"
      ]
     },
     "execution_count": 14,
     "metadata": {},
     "output_type": "execute_result"
    }
   ],
   "source": [
    "obj.NaiveBayes(X_train, X_test, y_train, y_test)"
   ]
  },
  {
   "cell_type": "code",
   "execution_count": 15,
   "metadata": {},
   "outputs": [
    {
     "name": "stdout",
     "output_type": "stream",
     "text": [
      "[[1523  179]\n",
      " [ 235  563]]\n",
      "The Accuracy is: 0.8344\n",
      "              precision    recall  f1-score   support\n",
      "\n",
      "       False       0.87      0.89      0.88      1702\n",
      "        True       0.76      0.71      0.73       798\n",
      "\n",
      "    accuracy                           0.83      2500\n",
      "   macro avg       0.81      0.80      0.81      2500\n",
      "weighted avg       0.83      0.83      0.83      2500\n",
      "\n"
     ]
    },
    {
     "data": {
      "text/plain": [
       "(SVC(C=1.0, cache_size=200, class_weight=None, coef0=0.0,\n",
       "     decision_function_shape='ovr', degree=3, gamma='auto_deprecated',\n",
       "     kernel='linear', max_iter=-1, probability=False, random_state=0,\n",
       "     shrinking=True, tol=0.001, verbose=False), array([[1523,  179],\n",
       "        [ 235,  563]], dtype=int64), 0.8344)"
      ]
     },
     "execution_count": 15,
     "metadata": {},
     "output_type": "execute_result"
    }
   ],
   "source": [
    "obj.SVM_Linear(X_train, X_test, y_train, y_test)"
   ]
  },
  {
   "cell_type": "code",
   "execution_count": 16,
   "metadata": {},
   "outputs": [
    {
     "name": "stdout",
     "output_type": "stream",
     "text": [
      "[[1528  174]\n",
      " [ 231  567]]\n",
      "The Accuracy is: 0.838\n",
      "              precision    recall  f1-score   support\n",
      "\n",
      "       False       0.87      0.90      0.88      1702\n",
      "        True       0.77      0.71      0.74       798\n",
      "\n",
      "    accuracy                           0.84      2500\n",
      "   macro avg       0.82      0.80      0.81      2500\n",
      "weighted avg       0.84      0.84      0.84      2500\n",
      "\n"
     ]
    },
    {
     "data": {
      "text/plain": [
       "(SVC(C=1.0, cache_size=200, class_weight=None, coef0=0.0,\n",
       "     decision_function_shape='ovr', degree=3, gamma='auto_deprecated',\n",
       "     kernel='rbf', max_iter=-1, probability=False, random_state=0,\n",
       "     shrinking=True, tol=0.001, verbose=False), array([[1528,  174],\n",
       "        [ 231,  567]], dtype=int64), 0.838)"
      ]
     },
     "execution_count": 16,
     "metadata": {},
     "output_type": "execute_result"
    }
   ],
   "source": [
    "obj.SVM_nonlinear(X_train, X_test, y_train, y_test)"
   ]
  },
  {
   "cell_type": "code",
   "execution_count": null,
   "metadata": {},
   "outputs": [],
   "source": []
  }
 ],
 "metadata": {
  "kernelspec": {
   "display_name": "Python 3",
   "language": "python",
   "name": "python3"
  },
  "language_info": {
   "codemirror_mode": {
    "name": "ipython",
    "version": 3
   },
   "file_extension": ".py",
   "mimetype": "text/x-python",
   "name": "python",
   "nbconvert_exporter": "python",
   "pygments_lexer": "ipython3",
   "version": "3.7.6"
  }
 },
 "nbformat": 4,
 "nbformat_minor": 2
}
